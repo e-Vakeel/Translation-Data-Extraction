{
 "cells": [
  {
   "cell_type": "code",
   "execution_count": 3,
   "metadata": {},
   "outputs": [
    {
     "name": "stdout",
     "output_type": "stream",
     "text": [
      "                   English Phrase  \\\n",
      "0                      Hindi a.m.   \n",
      "1                         abandon   \n",
      "2      abandon any of the objects   \n",
      "3         abandon his application   \n",
      "4                abandoned assets   \n",
      "...                           ...   \n",
      "31228                         zoo   \n",
      "31229              Zoo Supervisor   \n",
      "31230           zoological garden   \n",
      "31231             zoological park   \n",
      "31232  Zoological Survey of India   \n",
      "\n",
      "                                                Meanings  \\\n",
      "0                                          ante meridian   \n",
      "1      to give up; to leave without help; to surrende...   \n",
      "2                                                    NaN   \n",
      "3                                                    NaN   \n",
      "4                                                    NaN   \n",
      "...                                                  ...   \n",
      "31228                                                NaN   \n",
      "31229                                                NaN   \n",
      "31230                                                NaN   \n",
      "31231                                                NaN   \n",
      "31232                                                NaN   \n",
      "\n",
      "                                            Acts  \\\n",
      "0                                            NaN   \n",
      "1                             s. 68(2), T.P. Act   \n",
      "2                     s. 17(1)(e), Companies Act   \n",
      "3      s. 21(2), Trade and Merchandise Marks Act   \n",
      "4                                            NaN   \n",
      "...                                          ...   \n",
      "31228                                        NaN   \n",
      "31229                                        NaN   \n",
      "31230                                        NaN   \n",
      "31231                                        NaN   \n",
      "31232                                        NaN   \n",
      "\n",
      "                               Hindi Translation  \n",
      "0                                      पूवार्ह्न  \n",
      "1                                 प�रत् याग करना  \n",
      "2      उद्देश् य� म� से �कसी को प�रत् यक् त करना  \n",
      "3                   अपने आवेदन का प�रत् याग करना  \n",
      "4                         प�रत् यक् त आस् �तया ं  \n",
      "...                                          ...  \n",
      "31228                                   �च�ड़याघर  \n",
      "31229                          �च�ड़याघर पयर्वे�क  \n",
      "31230                                   �च�ड़याघर  \n",
      "31231                              प्राणी उद्यान  \n",
      "31232                  भारतीय प्राणी-�व�ान सव��ण  \n",
      "\n",
      "[31233 rows x 4 columns]\n"
     ]
    }
   ],
   "source": [
    "# %pip install pandas\n",
    "import pandas as pd\n",
    "A = pd.read_csv('A.csv')\n",
    "D = pd.read_csv('D.csv')\n",
    "H = pd.read_csv('H.csv')\n",
    "M = pd.read_csv('M.csv')\n",
    "P = pd.read_csv('P.csv')\n",
    "S = pd.read_csv('S.csv')\n",
    "W = pd.read_csv('W.csv')\n",
    "\n",
    "dictionary = pd.concat([A, D, H, M, P, S, W], ignore_index=True)\n",
    "print(dictionary)\n",
    "\n",
    "dictionary.to_csv('dictionary.csv', index=False)\n",
    "\n"
   ]
  },
  {
   "cell_type": "code",
   "execution_count": 4,
   "metadata": {},
   "outputs": [
    {
     "data": {
      "text/plain": [
       "(31233, 4)"
      ]
     },
     "execution_count": 4,
     "metadata": {},
     "output_type": "execute_result"
    }
   ],
   "source": [
    "dictionary.shape\n"
   ]
  },
  {
   "cell_type": "code",
   "execution_count": null,
   "metadata": {},
   "outputs": [],
   "source": []
  }
 ],
 "metadata": {
  "kernelspec": {
   "display_name": "Python 3",
   "language": "python",
   "name": "python3"
  },
  "language_info": {
   "codemirror_mode": {
    "name": "ipython",
    "version": 3
   },
   "file_extension": ".py",
   "mimetype": "text/x-python",
   "name": "python",
   "nbconvert_exporter": "python",
   "pygments_lexer": "ipython3",
   "version": "3.12.4"
  }
 },
 "nbformat": 4,
 "nbformat_minor": 2
}
